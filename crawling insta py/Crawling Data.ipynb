{
 "cells": [
  {
   "cell_type": "code",
   "execution_count": 4,
   "id": "37a5052a",
   "metadata": {
    "scrolled": true
   },
   "outputs": [
    {
     "ename": "SyntaxError",
     "evalue": "invalid syntax (980771021.py, line 1)",
     "output_type": "error",
     "traceback": [
      "\u001b[1;36m  Cell \u001b[1;32mIn[4], line 1\u001b[1;36m\u001b[0m\n\u001b[1;33m    pip install jsonpickle\u001b[0m\n\u001b[1;37m        ^\u001b[0m\n\u001b[1;31mSyntaxError\u001b[0m\u001b[1;31m:\u001b[0m invalid syntax\n"
     ]
    }
   ],
   "source": [
    "pip install jsonpickle\n"
   ]
  },
  {
   "cell_type": "code",
   "execution_count": 5,
   "id": "29a2afe7",
   "metadata": {},
   "outputs": [
    {
     "name": "stdout",
     "output_type": "stream",
     "text": [
      "Collecting instaloader\n",
      "  Downloading instaloader-4.10.tar.gz (62 kB)\n",
      "Requirement already satisfied: requests>=2.4 in c:\\users\\fatha\\anaconda3\\lib\\site-packages (from instaloader) (2.27.1)\n",
      "Requirement already satisfied: charset-normalizer~=2.0.0 in c:\\users\\fatha\\anaconda3\\lib\\site-packages (from requests>=2.4->instaloader) (2.0.4)\n",
      "Requirement already satisfied: urllib3<1.27,>=1.21.1 in c:\\users\\fatha\\anaconda3\\lib\\site-packages (from requests>=2.4->instaloader) (1.26.9)\n",
      "Requirement already satisfied: certifi>=2017.4.17 in c:\\users\\fatha\\anaconda3\\lib\\site-packages (from requests>=2.4->instaloader) (2021.10.8)\n",
      "Requirement already satisfied: idna<4,>=2.5 in c:\\users\\fatha\\anaconda3\\lib\\site-packages (from requests>=2.4->instaloader) (3.3)\n",
      "Building wheels for collected packages: instaloader\n",
      "  Building wheel for instaloader (setup.py): started\n",
      "  Building wheel for instaloader (setup.py): finished with status 'done'\n",
      "  Created wheel for instaloader: filename=instaloader-4.10-py3-none-any.whl size=64299 sha256=6f0e48e6ae91af3fd71a8ff5b2dbfb115811900e30d23e3277792b121f5f0edb\n",
      "  Stored in directory: c:\\users\\fatha\\appdata\\local\\pip\\cache\\wheels\\30\\d3\\e9\\a15fc8e2e997e4dc75983128dc3f48a051476301f8422c8cde\n",
      "Successfully built instaloader\n",
      "Installing collected packages: instaloader\n",
      "Successfully installed instaloader-4.10\n",
      "Note: you may need to restart the kernel to use updated packages.\n"
     ]
    }
   ],
   "source": [
    "pip install instaloader"
   ]
  },
  {
   "cell_type": "code",
   "execution_count": 7,
   "id": "c7f7cf3b",
   "metadata": {},
   "outputs": [],
   "source": [
    "import instaloader"
   ]
  },
  {
   "cell_type": "code",
   "execution_count": 8,
   "id": "87f3a3bc",
   "metadata": {},
   "outputs": [
    {
     "name": "stdout",
     "output_type": "stream",
     "text": [
      "Masukan Akun Instagram yang akan di Crawling :kahfeveryday\n",
      "Download Media......\n",
      "Stored ID 40014226502 for profile kahfeveryday.\n",
      "kahfeveryday\\2020-09-02_01-12-35_UTC_profile_pic.jpg \n",
      "Retrieving posts from profile kahfeveryday.\n",
      "[   1/1078] kahfeveryday\\2023-09-25_12-01-40_UTC_1.jpg kahfeveryday\\2023-09-25_12-01-40_UTC_2.jpg [Saatnya lo terlindungi saat b…] json \n",
      "[   2/1078] kahfeveryday\\2023-09-25_10-43-15_UTC_1.jpg kahfeveryday\\2023-09-25_10-43-15_UTC_2.jpg kahfeveryday\\2023-09-25_10-43-15_UTC_3.jpg [Proudly Present  - 𝗞𝗮𝗵𝗳 𝗧𝗿𝗶𝗽𝗹…] json \n",
      "[   3/1078] kahfeveryday\\2023-09-25_08-39-15_UTC_1.jpg kahfeveryday\\2023-09-25_08-39-15_UTC_2.jpg [We heard you, bro! 🤝 Kahf Tri…] json \n",
      "[   4/1078] kahfeveryday\\2023-10-15_07-17-10_UTC.jpg [Temani akhir pekan lo dengan …] json \n",
      "[   5/1078] kahfeveryday\\2023-10-14_08-41-07_UTC.jpg [Jangan biarkan debu dan polus…] kahfeveryday\\2023-10-14_08-41-07_UTC.mp4 json \n",
      "[   6/1078] kahfeveryday\\2023-10-13_09-02-18_UTC.jpg [Komitmen adalah kunci utama d…] kahfeveryday\\2023-10-13_09-02-18_UTC.mp4 json \n",
      "[   7/1078] kahfeveryday\\2023-10-13_03-18-36_UTC.jpg [Hiasi #JumatBerKahf lo dengan…] json \n",
      "[   8/1078] kahfeveryday\\2023-10-12_09-27-32_UTC.jpg [Cuaca panas emang enaknya yan…] json \n",
      "[   9/1078] kahfeveryday\\2023-10-11_09-16-22_UTC_1.jpg kahfeveryday\\2023-10-11_09-16-22_UTC_2.jpg kahfeveryday\\2023-10-11_09-16-22_UTC_3.jpg kahfeveryday\\2023-10-11_09-16-22_UTC_4.jpg [Kahf Experience Store Trans C…] json \n",
      "[  10/1078] kahfeveryday\\2023-10-10_09-45-16_UTC_1.jpg kahfeveryday\\2023-10-10_09-45-16_UTC_2.jpg kahfeveryday\\2023-10-10_09-45-16_UTC_3.jpg kahfeveryday\\2023-10-10_09-45-16_UTC_4.jpg [Waspada cuaca ekstrim hingga …] json \n",
      "[  11/1078] kahfeveryday\\2023-10-09_09-09-46_UTC.jpg [Balikin semangat lo dengan ke…] kahfeveryday\\2023-10-09_09-09-46_UTC.mp4 json \n",
      "[  12/1078] kahfeveryday\\2023-10-08_09-01-24_UTC.jpg [Lengkapi weekend lo dengan Ka…] json \n",
      "[  13/1078] kahfeveryday\\2023-10-07_09-12-42_UTC.jpg [Coming soon! Asiknya kita bik…] kahfeveryday\\2023-10-07_09-12-42_UTC.mp4 json \n",
      "[  14/1078] kahfeveryday\\2023-10-06_03-43-17_UTC.jpg [Perpaduan aroma oud, vanilla,…] json \n",
      "[  15/1078] kahfeveryday\\2023-10-05_10-15-47_UTC_1.jpg kahfeveryday\\2023-10-05_10-15-47_UTC_2.jpg kahfeveryday\\2023-10-05_10-15-47_UTC_3.jpg [Fakta mana yang bikin lo gele…] json \n",
      "[  16/1078] kahfeveryday\\2023-10-04_09-07-20_UTC.jpg [Matahari lagi terik-teriknya …] json \n",
      "[  17/1078] kahfeveryday\\2023-10-04_04-38-00_UTC_1.jpg kahfeveryday\\2023-10-04_04-38-00_UTC_2.jpg [Masih bingung kelebihan Sunsc…] json \n",
      "[  18/1078] kahfeveryday\\2023-10-03_09-08-10_UTC.jpg [Kini saatnya lo semakin terli…] kahfeveryday\\2023-10-03_09-08-10_UTC.mp4 json \n",
      "[  19/1078] kahfeveryday\\2023-10-02_11-53-54_UTC.jpg [Kabar bahagia di hari senin! …] json \n",
      "[  20/1078] kahfeveryday\\2023-10-02_09-01-51_UTC.jpg [Ini dia keseruan Kahf Experie…] kahfeveryday\\2023-10-02_09-01-51_UTC.mp4 json \n",
      "[  21/1078] kahfeveryday\\2023-10-01_12-14-16_UTC.jpg [Kahf Present Nature Charged S…] kahfeveryday\\2023-10-01_12-14-16_UTC.mp4 json \n",
      "[  22/1078] kahfeveryday\\2023-10-01_05-16-33_UTC.jpg [Teknologi dan kandungan Kahf …] json \n",
      "[  23/1078] kahfeveryday\\2023-09-30_16-11-50_UTC.jpg [Jadi salting 😉😎  We’re over t…] kahfeveryday\\2023-09-30_16-11-50_UTC.mp4 json \n",
      "[  24/1078] kahfeveryday\\2023-09-30_12-14-18_UTC.jpg [Saatnya kamu dapetin Backpack…] kahfeveryday\\2023-09-30_12-14-18_UTC.mp4 json \n",
      "[  25/1078] kahfeveryday\\2023-09-30_09-15-49_UTC.jpg [Kahf memperkenalkan Sunscreen…] kahfeveryday\\2023-09-30_09-15-49_UTC.mp4 json \n",
      "[  26/1078] kahfeveryday\\2023-09-30_06-16-13_UTC.jpg [Berikut kandungan dan teknolo…] json \n",
      "[  27/1078] kahfeveryday\\2023-09-29_05-53-13_UTC.jpg [Kahf Present New Product. Sun…] kahfeveryday\\2023-09-29_05-53-13_UTC.mp4 json \n",
      "[  28/1078] kahfeveryday\\2023-09-29_03-20-25_UTC.jpg [Jumat hari yang baik dan penu…] json \n",
      "[  29/1078] kahfeveryday\\2023-09-28_11-11-17_UTC.jpg [Penasaran seberapa efektif Ka…] kahfeveryday\\2023-09-28_11-11-17_UTC.mp4 json \n",
      "[  30/1078] kahfeveryday\\2023-09-27_05-08-39_UTC_1.jpg kahfeveryday\\2023-09-27_05-08-39_UTC_2.jpg kahfeveryday\\2023-09-27_05-08-39_UTC_3.jpg [Kahf Experience Booth hadir d…] json \n",
      "[  31/1078] kahfeveryday\\2023-09-26_10-27-49_UTC_1.jpg kahfeveryday\\2023-09-26_10-27-49_UTC_2.jpg [Sebelum war di Exclusive Laun…] json \n",
      "[  32/1078] kahfeveryday\\2023-09-26_05-43-37_UTC.jpg [Keseruan Kahf dan bro @rickyh…] kahfeveryday\\2023-09-26_05-43-37_UTC.mp4 json \n",
      "[  33/1078] kahfeveryday\\2023-09-24_08-53-08_UTC_1.jpg kahfeveryday\\2023-09-24_08-53-08_UTC_2.jpg [Buat lo yang penasaran sama p…] json \n",
      "[  34/1078] kahfeveryday\\2023-09-23_09-57-54_UTC.jpg [Kahfbro yang punya mobilitas …] kahfeveryday\\2023-09-23_09-57-54_UTC.mp4 json \n",
      "[  35/1078] kahfeveryday\\2023-09-23_05-51-08_UTC_1.jpg kahfeveryday\\2023-09-23_05-51-08_UTC_2.jpg kahfeveryday\\2023-09-23_05-51-08_UTC_3.jpg [Prepare to be captivated by o…] json \n",
      "[  36/1078] kahfeveryday\\2023-09-22_10-01-27_UTC.jpg [Mungkin lo masih berpikir kal…] kahfeveryday\\2023-09-22_10-01-27_UTC.mp4 json \n",
      "[  37/1078] kahfeveryday\\2023-09-22_03-01-42_UTC.jpg [Kahf Eau de Toilette Invigora…] json \n",
      "[  38/1078] kahfeveryday\\2023-09-21_09-56-41_UTC.jpg [Apapun aktivitasnya, Kahf Fac…] kahfeveryday\\2023-09-21_09-56-41_UTC.mp4 json \n",
      "[  39/1078] kahfeveryday\\2023-09-21_04-51-12_UTC_1.jpg kahfeveryday\\2023-09-21_04-51-12_UTC_2.jpg kahfeveryday\\2023-09-21_04-51-12_UTC_3.jpg kahfeveryday\\2023-09-21_04-51-12_UTC_4.jpg [Lagi punya masalah sama kulit…] json \n",
      "[  40/1078] kahfeveryday\\2023-09-20_11-38-23_UTC.jpg [Vote Kahf di Watsons HWB Awar…] kahfeveryday\\2023-09-20_11-38-23_UTC.mp4 json \n",
      "[  41/1078] kahfeveryday\\2023-09-20_08-25-13_UTC_1.jpg kahfeveryday\\2023-09-20_08-25-13_UTC_2.jpg kahfeveryday\\2023-09-20_08-25-13_UTC_3.jpg kahfeveryday\\2023-09-20_08-25-13_UTC_4.jpg [Udah yakin belom sama SPF Sun…] json \n",
      "[  42/1078] kahfeveryday\\2023-09-19_08-12-02_UTC.jpg [Siapa aja yang cocok pake Kah…] json \n",
      "[  43/1078] kahfeveryday\\2023-09-18_10-50-53_UTC_1.jpg kahfeveryday\\2023-09-18_10-50-53_UTC_2.jpg kahfeveryday\\2023-09-18_10-50-53_UTC_3.jpg kahfeveryday\\2023-09-18_10-50-53_UTC_4.jpg kahfeveryday\\2023-09-18_10-50-53_UTC_5.jpg [Mungkin bener ya bro, Sunscre…] json \n",
      "[  44/1078] kahfeveryday\\2023-09-17_09-14-32_UTC.jpg [#JalanYangKupilih - Berlari 3…] kahfeveryday\\2023-09-17_09-14-32_UTC.mp4 json \n",
      "[  45/1078] kahfeveryday\\2023-09-17_04-48-59_UTC_1.jpg kahfeveryday\\2023-09-17_04-48-59_UTC_2.jpg kahfeveryday\\2023-09-17_04-48-59_UTC_3.jpg kahfeveryday\\2023-09-17_04-48-59_UTC_4.jpg [Happy weekend, bro!  Bromin a…] json \n",
      "[  46/1078] kahfeveryday\\2023-09-16_10-49-55_UTC.jpg [#JalanYangKupilih - Berlari 2…] kahfeveryday\\2023-09-16_10-49-55_UTC.mp4 json \n",
      "[  47/1078] kahfeveryday\\2023-09-16_06-19-35_UTC.jpg [Jangan lupa gunakan Kahf Face…] json \n",
      "[  48/1078] kahfeveryday\\2023-09-15_10-30-04_UTC.jpg [Kahf x Rumah Sakit JIH Purwok…] kahfeveryday\\2023-09-15_10-30-04_UTC.mp4 json \n",
      "[  49/1078] kahfeveryday\\2023-09-15_03-49-10_UTC.jpg [Rasakan sensasi #JumatBerKahf…] json \n",
      "[  50/1078] kahfeveryday\\2023-09-14_10-44-54_UTC.jpg [#JalanYangKupilih - Berlari 1…] kahfeveryday\\2023-09-14_10-44-54_UTC.mp4 json \n",
      "[  51/1078] kahfeveryday\\2023-09-14_05-38-43_UTC_1.jpg kahfeveryday\\2023-09-14_05-38-43_UTC_2.jpg kahfeveryday\\2023-09-14_05-38-43_UTC_3.jpg [Ayok tulis lagi bro, istilah-…] json \n",
      "[  52/1078] kahfeveryday\\2023-09-13_09-17-06_UTC.jpg [Angkat komedo dan lawan kulit…] json \n",
      "[  53/1078] kahfeveryday\\2023-09-12_10-53-18_UTC.jpg [Dengan berakhirnya FIBA 2023,…] kahfeveryday\\2023-09-12_10-53-18_UTC.mp4 \n",
      "Saved resume information to kahfeveryday\\iterator_Cz5L6jZb.json.xz.\n"
     ]
    },
    {
     "ename": "KeyboardInterrupt",
     "evalue": "",
     "output_type": "error",
     "traceback": [
      "\u001b[1;31m---------------------------------------------------------------------------\u001b[0m",
      "\u001b[1;31mKeyboardInterrupt\u001b[0m                         Traceback (most recent call last)",
      "Cell \u001b[1;32mIn[8], line 3\u001b[0m\n\u001b[0;32m      1\u001b[0m profile_name \u001b[38;5;241m=\u001b[39m \u001b[38;5;28minput\u001b[39m (\u001b[38;5;124m\"\u001b[39m\u001b[38;5;124mMasukan Akun Instagram yang akan di Crawling :\u001b[39m\u001b[38;5;124m\"\u001b[39m)\n\u001b[0;32m      2\u001b[0m \u001b[38;5;28mprint\u001b[39m(\u001b[38;5;124m\"\u001b[39m\u001b[38;5;124mDownload Media......\u001b[39m\u001b[38;5;124m\"\u001b[39m)\n\u001b[1;32m----> 3\u001b[0m \u001b[43minstaloader\u001b[49m\u001b[38;5;241;43m.\u001b[39;49m\u001b[43mInstaloader\u001b[49m\u001b[43m(\u001b[49m\u001b[43m)\u001b[49m\u001b[38;5;241;43m.\u001b[39;49m\u001b[43mdownload_profile\u001b[49m\u001b[43m(\u001b[49m\u001b[43mprofile_name\u001b[49m\u001b[43m,\u001b[49m\u001b[43m \u001b[49m\u001b[43mprofile_pic_only\u001b[49m\u001b[43m \u001b[49m\u001b[38;5;241;43m=\u001b[39;49m\u001b[43m \u001b[49m\u001b[38;5;28;43;01mFalse\u001b[39;49;00m\u001b[43m)\u001b[49m\n\u001b[0;32m      4\u001b[0m \u001b[38;5;28mprint\u001b[39m(\u001b[38;5;124m\"\u001b[39m\u001b[38;5;124mDownload Success!\u001b[39m\u001b[38;5;124m\"\u001b[39m)\n",
      "File \u001b[1;32m~\\anaconda3\\lib\\site-packages\\instaloader\\instaloader.py:1573\u001b[0m, in \u001b[0;36mInstaloader.download_profile\u001b[1;34m(self, profile_name, profile_pic, profile_pic_only, fast_update, download_stories, download_stories_only, download_tagged, download_tagged_only, post_filter, storyitem_filter)\u001b[0m\n\u001b[0;32m   1571\u001b[0m \u001b[38;5;66;03m# Iterate over pictures and download them\u001b[39;00m\n\u001b[0;32m   1572\u001b[0m \u001b[38;5;28mself\u001b[39m\u001b[38;5;241m.\u001b[39mcontext\u001b[38;5;241m.\u001b[39mlog(\u001b[38;5;124m\"\u001b[39m\u001b[38;5;124mRetrieving posts from profile \u001b[39m\u001b[38;5;132;01m{}\u001b[39;00m\u001b[38;5;124m.\u001b[39m\u001b[38;5;124m\"\u001b[39m\u001b[38;5;241m.\u001b[39mformat(profile_name))\n\u001b[1;32m-> 1573\u001b[0m \u001b[38;5;28;43mself\u001b[39;49m\u001b[38;5;241;43m.\u001b[39;49m\u001b[43mposts_download_loop\u001b[49m\u001b[43m(\u001b[49m\u001b[43mprofile\u001b[49m\u001b[38;5;241;43m.\u001b[39;49m\u001b[43mget_posts\u001b[49m\u001b[43m(\u001b[49m\u001b[43m)\u001b[49m\u001b[43m,\u001b[49m\u001b[43m \u001b[49m\u001b[43mprofile_name\u001b[49m\u001b[43m,\u001b[49m\u001b[43m \u001b[49m\u001b[43mfast_update\u001b[49m\u001b[43m,\u001b[49m\u001b[43m \u001b[49m\u001b[43mpost_filter\u001b[49m\u001b[43m,\u001b[49m\n\u001b[0;32m   1574\u001b[0m \u001b[43m                         \u001b[49m\u001b[43mtotal_count\u001b[49m\u001b[38;5;241;43m=\u001b[39;49m\u001b[43mprofile\u001b[49m\u001b[38;5;241;43m.\u001b[39;49m\u001b[43mmediacount\u001b[49m\u001b[43m,\u001b[49m\u001b[43m \u001b[49m\u001b[43mowner_profile\u001b[49m\u001b[38;5;241;43m=\u001b[39;49m\u001b[43mprofile\u001b[49m\u001b[43m)\u001b[49m\n",
      "File \u001b[1;32m~\\anaconda3\\lib\\site-packages\\instaloader\\instaloader.py:1064\u001b[0m, in \u001b[0;36mInstaloader.posts_download_loop\u001b[1;34m(self, posts, target, fast_update, post_filter, max_count, total_count, owner_profile, takewhile)\u001b[0m\n\u001b[0;32m   1062\u001b[0m \u001b[38;5;28;01mwhile\u001b[39;00m \u001b[38;5;28;01mTrue\u001b[39;00m:\n\u001b[0;32m   1063\u001b[0m     \u001b[38;5;28;01mtry\u001b[39;00m:\n\u001b[1;32m-> 1064\u001b[0m         downloaded \u001b[38;5;241m=\u001b[39m \u001b[38;5;28;43mself\u001b[39;49m\u001b[38;5;241;43m.\u001b[39;49m\u001b[43mdownload_post\u001b[49m\u001b[43m(\u001b[49m\u001b[43mpost\u001b[49m\u001b[43m,\u001b[49m\u001b[43m \u001b[49m\u001b[43mtarget\u001b[49m\u001b[38;5;241;43m=\u001b[39;49m\u001b[43mtarget\u001b[49m\u001b[43m)\u001b[49m\n\u001b[0;32m   1065\u001b[0m         \u001b[38;5;28;01mbreak\u001b[39;00m\n\u001b[0;32m   1066\u001b[0m     \u001b[38;5;28;01mexcept\u001b[39;00m PostChangedException:\n",
      "File \u001b[1;32m~\\anaconda3\\lib\\site-packages\\instaloader\\instaloader.py:773\u001b[0m, in \u001b[0;36mInstaloader.download_post\u001b[1;34m(self, post, target)\u001b[0m\n\u001b[0;32m    770\u001b[0m \u001b[38;5;66;03m# Download video if desired\u001b[39;00m\n\u001b[0;32m    771\u001b[0m \u001b[38;5;28;01mif\u001b[39;00m post\u001b[38;5;241m.\u001b[39mis_video \u001b[38;5;129;01mand\u001b[39;00m \u001b[38;5;28mself\u001b[39m\u001b[38;5;241m.\u001b[39mdownload_videos:\n\u001b[0;32m    772\u001b[0m     downloaded \u001b[38;5;241m&\u001b[39m\u001b[38;5;241m=\u001b[39m (\u001b[38;5;129;01mnot\u001b[39;00m _already_downloaded(filename \u001b[38;5;241m+\u001b[39m \u001b[38;5;124m\"\u001b[39m\u001b[38;5;124m.mp4\u001b[39m\u001b[38;5;124m\"\u001b[39m) \u001b[38;5;129;01mand\u001b[39;00m\n\u001b[1;32m--> 773\u001b[0m                    \u001b[38;5;28;43mself\u001b[39;49m\u001b[38;5;241;43m.\u001b[39;49m\u001b[43mdownload_pic\u001b[49m\u001b[43m(\u001b[49m\u001b[43mfilename\u001b[49m\u001b[38;5;241;43m=\u001b[39;49m\u001b[43mfilename\u001b[49m\u001b[43m,\u001b[49m\u001b[43m \u001b[49m\u001b[43murl\u001b[49m\u001b[38;5;241;43m=\u001b[39;49m\u001b[43mpost\u001b[49m\u001b[38;5;241;43m.\u001b[39;49m\u001b[43mvideo_url\u001b[49m\u001b[43m,\u001b[49m\u001b[43m \u001b[49m\u001b[43mmtime\u001b[49m\u001b[38;5;241;43m=\u001b[39;49m\u001b[43mpost\u001b[49m\u001b[38;5;241;43m.\u001b[39;49m\u001b[43mdate_local\u001b[49m\u001b[43m)\u001b[49m)\n\u001b[0;32m    775\u001b[0m \u001b[38;5;66;03m# Download geotags if desired\u001b[39;00m\n\u001b[0;32m    776\u001b[0m \u001b[38;5;28;01mif\u001b[39;00m \u001b[38;5;28mself\u001b[39m\u001b[38;5;241m.\u001b[39mdownload_geotags \u001b[38;5;129;01mand\u001b[39;00m post\u001b[38;5;241m.\u001b[39mlocation:\n",
      "File \u001b[1;32m~\\anaconda3\\lib\\site-packages\\instaloader\\instaloader.py:97\u001b[0m, in \u001b[0;36m_retry_on_connection_error.<locals>.call\u001b[1;34m(instaloader, *args, **kwargs)\u001b[0m\n\u001b[0;32m     94\u001b[0m \u001b[38;5;129m@wraps\u001b[39m(func)\n\u001b[0;32m     95\u001b[0m \u001b[38;5;28;01mdef\u001b[39;00m \u001b[38;5;21mcall\u001b[39m(instaloader, \u001b[38;5;241m*\u001b[39margs, \u001b[38;5;241m*\u001b[39m\u001b[38;5;241m*\u001b[39mkwargs):\n\u001b[0;32m     96\u001b[0m     \u001b[38;5;28;01mtry\u001b[39;00m:\n\u001b[1;32m---> 97\u001b[0m         \u001b[38;5;28;01mreturn\u001b[39;00m func(instaloader, \u001b[38;5;241m*\u001b[39margs, \u001b[38;5;241m*\u001b[39m\u001b[38;5;241m*\u001b[39mkwargs)\n\u001b[0;32m     98\u001b[0m     \u001b[38;5;28;01mexcept\u001b[39;00m (urllib3\u001b[38;5;241m.\u001b[39mexceptions\u001b[38;5;241m.\u001b[39mHTTPError, requests\u001b[38;5;241m.\u001b[39mexceptions\u001b[38;5;241m.\u001b[39mRequestException, ConnectionException) \u001b[38;5;28;01mas\u001b[39;00m err:\n\u001b[0;32m     99\u001b[0m         error_string \u001b[38;5;241m=\u001b[39m \u001b[38;5;124m\"\u001b[39m\u001b[38;5;132;01m{}\u001b[39;00m\u001b[38;5;124m(\u001b[39m\u001b[38;5;132;01m{}\u001b[39;00m\u001b[38;5;124m): \u001b[39m\u001b[38;5;132;01m{}\u001b[39;00m\u001b[38;5;124m\"\u001b[39m\u001b[38;5;241m.\u001b[39mformat(func\u001b[38;5;241m.\u001b[39m\u001b[38;5;18m__name__\u001b[39m, \u001b[38;5;124m'\u001b[39m\u001b[38;5;124m, \u001b[39m\u001b[38;5;124m'\u001b[39m\u001b[38;5;241m.\u001b[39mjoin([\u001b[38;5;28mrepr\u001b[39m(arg) \u001b[38;5;28;01mfor\u001b[39;00m arg \u001b[38;5;129;01min\u001b[39;00m args]), err)\n",
      "File \u001b[1;32m~\\anaconda3\\lib\\site-packages\\instaloader\\instaloader.py:356\u001b[0m, in \u001b[0;36mInstaloader.download_pic\u001b[1;34m(self, filename, url, mtime, filename_suffix, _attempt)\u001b[0m\n\u001b[0;32m    354\u001b[0m     \u001b[38;5;28mself\u001b[39m\u001b[38;5;241m.\u001b[39mcontext\u001b[38;5;241m.\u001b[39mlog(filename \u001b[38;5;241m+\u001b[39m \u001b[38;5;124m'\u001b[39m\u001b[38;5;124m exists\u001b[39m\u001b[38;5;124m'\u001b[39m, end\u001b[38;5;241m=\u001b[39m\u001b[38;5;124m'\u001b[39m\u001b[38;5;124m \u001b[39m\u001b[38;5;124m'\u001b[39m, flush\u001b[38;5;241m=\u001b[39m\u001b[38;5;28;01mTrue\u001b[39;00m)\n\u001b[0;32m    355\u001b[0m     \u001b[38;5;28;01mreturn\u001b[39;00m \u001b[38;5;28;01mFalse\u001b[39;00m\n\u001b[1;32m--> 356\u001b[0m \u001b[38;5;28;43mself\u001b[39;49m\u001b[38;5;241;43m.\u001b[39;49m\u001b[43mcontext\u001b[49m\u001b[38;5;241;43m.\u001b[39;49m\u001b[43mwrite_raw\u001b[49m\u001b[43m(\u001b[49m\u001b[43mresp\u001b[49m\u001b[43m,\u001b[49m\u001b[43m \u001b[49m\u001b[43mfilename\u001b[49m\u001b[43m)\u001b[49m\n\u001b[0;32m    357\u001b[0m os\u001b[38;5;241m.\u001b[39mutime(filename, (datetime\u001b[38;5;241m.\u001b[39mnow()\u001b[38;5;241m.\u001b[39mtimestamp(), mtime\u001b[38;5;241m.\u001b[39mtimestamp()))\n\u001b[0;32m    358\u001b[0m \u001b[38;5;28;01mreturn\u001b[39;00m \u001b[38;5;28;01mTrue\u001b[39;00m\n",
      "File \u001b[1;32m~\\anaconda3\\lib\\site-packages\\instaloader\\instaloadercontext.py:598\u001b[0m, in \u001b[0;36mInstaloaderContext.write_raw\u001b[1;34m(self, resp, filename)\u001b[0m\n\u001b[0;32m    596\u001b[0m \u001b[38;5;28;01mwith\u001b[39;00m \u001b[38;5;28mopen\u001b[39m(filename \u001b[38;5;241m+\u001b[39m \u001b[38;5;124m'\u001b[39m\u001b[38;5;124m.temp\u001b[39m\u001b[38;5;124m'\u001b[39m, \u001b[38;5;124m'\u001b[39m\u001b[38;5;124mwb\u001b[39m\u001b[38;5;124m'\u001b[39m) \u001b[38;5;28;01mas\u001b[39;00m file:\n\u001b[0;32m    597\u001b[0m     \u001b[38;5;28;01mif\u001b[39;00m \u001b[38;5;28misinstance\u001b[39m(resp, requests\u001b[38;5;241m.\u001b[39mResponse):\n\u001b[1;32m--> 598\u001b[0m         \u001b[43mshutil\u001b[49m\u001b[38;5;241;43m.\u001b[39;49m\u001b[43mcopyfileobj\u001b[49m\u001b[43m(\u001b[49m\u001b[43mresp\u001b[49m\u001b[38;5;241;43m.\u001b[39;49m\u001b[43mraw\u001b[49m\u001b[43m,\u001b[49m\u001b[43m \u001b[49m\u001b[43mfile\u001b[49m\u001b[43m)\u001b[49m\n\u001b[0;32m    599\u001b[0m     \u001b[38;5;28;01melse\u001b[39;00m:\n\u001b[0;32m    600\u001b[0m         file\u001b[38;5;241m.\u001b[39mwrite(resp)\n",
      "File \u001b[1;32m~\\anaconda3\\lib\\shutil.py:205\u001b[0m, in \u001b[0;36mcopyfileobj\u001b[1;34m(fsrc, fdst, length)\u001b[0m\n\u001b[0;32m    203\u001b[0m fdst_write \u001b[38;5;241m=\u001b[39m fdst\u001b[38;5;241m.\u001b[39mwrite\n\u001b[0;32m    204\u001b[0m \u001b[38;5;28;01mwhile\u001b[39;00m \u001b[38;5;28;01mTrue\u001b[39;00m:\n\u001b[1;32m--> 205\u001b[0m     buf \u001b[38;5;241m=\u001b[39m \u001b[43mfsrc_read\u001b[49m\u001b[43m(\u001b[49m\u001b[43mlength\u001b[49m\u001b[43m)\u001b[49m\n\u001b[0;32m    206\u001b[0m     \u001b[38;5;28;01mif\u001b[39;00m \u001b[38;5;129;01mnot\u001b[39;00m buf:\n\u001b[0;32m    207\u001b[0m         \u001b[38;5;28;01mbreak\u001b[39;00m\n",
      "File \u001b[1;32m~\\anaconda3\\lib\\site-packages\\urllib3\\response.py:522\u001b[0m, in \u001b[0;36mHTTPResponse.read\u001b[1;34m(self, amt, decode_content, cache_content)\u001b[0m\n\u001b[0;32m    520\u001b[0m \u001b[38;5;28;01melse\u001b[39;00m:\n\u001b[0;32m    521\u001b[0m     cache_content \u001b[38;5;241m=\u001b[39m \u001b[38;5;28;01mFalse\u001b[39;00m\n\u001b[1;32m--> 522\u001b[0m     data \u001b[38;5;241m=\u001b[39m \u001b[38;5;28;43mself\u001b[39;49m\u001b[38;5;241;43m.\u001b[39;49m\u001b[43m_fp\u001b[49m\u001b[38;5;241;43m.\u001b[39;49m\u001b[43mread\u001b[49m\u001b[43m(\u001b[49m\u001b[43mamt\u001b[49m\u001b[43m)\u001b[49m \u001b[38;5;28;01mif\u001b[39;00m \u001b[38;5;129;01mnot\u001b[39;00m fp_closed \u001b[38;5;28;01melse\u001b[39;00m \u001b[38;5;124mb\u001b[39m\u001b[38;5;124m\"\u001b[39m\u001b[38;5;124m\"\u001b[39m\n\u001b[0;32m    523\u001b[0m     \u001b[38;5;28;01mif\u001b[39;00m (\n\u001b[0;32m    524\u001b[0m         amt \u001b[38;5;241m!=\u001b[39m \u001b[38;5;241m0\u001b[39m \u001b[38;5;129;01mand\u001b[39;00m \u001b[38;5;129;01mnot\u001b[39;00m data\n\u001b[0;32m    525\u001b[0m     ):  \u001b[38;5;66;03m# Platform-specific: Buggy versions of Python.\u001b[39;00m\n\u001b[1;32m   (...)\u001b[0m\n\u001b[0;32m    531\u001b[0m         \u001b[38;5;66;03m# not properly close the connection in all cases. There is\u001b[39;00m\n\u001b[0;32m    532\u001b[0m         \u001b[38;5;66;03m# no harm in redundantly calling close.\u001b[39;00m\n\u001b[0;32m    533\u001b[0m         \u001b[38;5;28mself\u001b[39m\u001b[38;5;241m.\u001b[39m_fp\u001b[38;5;241m.\u001b[39mclose()\n",
      "File \u001b[1;32m~\\anaconda3\\lib\\http\\client.py:463\u001b[0m, in \u001b[0;36mHTTPResponse.read\u001b[1;34m(self, amt)\u001b[0m\n\u001b[0;32m    460\u001b[0m \u001b[38;5;28;01mif\u001b[39;00m amt \u001b[38;5;129;01mis\u001b[39;00m \u001b[38;5;129;01mnot\u001b[39;00m \u001b[38;5;28;01mNone\u001b[39;00m:\n\u001b[0;32m    461\u001b[0m     \u001b[38;5;66;03m# Amount is given, implement using readinto\u001b[39;00m\n\u001b[0;32m    462\u001b[0m     b \u001b[38;5;241m=\u001b[39m \u001b[38;5;28mbytearray\u001b[39m(amt)\n\u001b[1;32m--> 463\u001b[0m     n \u001b[38;5;241m=\u001b[39m \u001b[38;5;28;43mself\u001b[39;49m\u001b[38;5;241;43m.\u001b[39;49m\u001b[43mreadinto\u001b[49m\u001b[43m(\u001b[49m\u001b[43mb\u001b[49m\u001b[43m)\u001b[49m\n\u001b[0;32m    464\u001b[0m     \u001b[38;5;28;01mreturn\u001b[39;00m \u001b[38;5;28mmemoryview\u001b[39m(b)[:n]\u001b[38;5;241m.\u001b[39mtobytes()\n\u001b[0;32m    465\u001b[0m \u001b[38;5;28;01melse\u001b[39;00m:\n\u001b[0;32m    466\u001b[0m     \u001b[38;5;66;03m# Amount is not given (unbounded read) so we must check self.length\u001b[39;00m\n\u001b[0;32m    467\u001b[0m     \u001b[38;5;66;03m# and self.chunked\u001b[39;00m\n",
      "File \u001b[1;32m~\\anaconda3\\lib\\http\\client.py:507\u001b[0m, in \u001b[0;36mHTTPResponse.readinto\u001b[1;34m(self, b)\u001b[0m\n\u001b[0;32m    502\u001b[0m         b \u001b[38;5;241m=\u001b[39m \u001b[38;5;28mmemoryview\u001b[39m(b)[\u001b[38;5;241m0\u001b[39m:\u001b[38;5;28mself\u001b[39m\u001b[38;5;241m.\u001b[39mlength]\n\u001b[0;32m    504\u001b[0m \u001b[38;5;66;03m# we do not use _safe_read() here because this may be a .will_close\u001b[39;00m\n\u001b[0;32m    505\u001b[0m \u001b[38;5;66;03m# connection, and the user is reading more bytes than will be provided\u001b[39;00m\n\u001b[0;32m    506\u001b[0m \u001b[38;5;66;03m# (for example, reading in 1k chunks)\u001b[39;00m\n\u001b[1;32m--> 507\u001b[0m n \u001b[38;5;241m=\u001b[39m \u001b[38;5;28;43mself\u001b[39;49m\u001b[38;5;241;43m.\u001b[39;49m\u001b[43mfp\u001b[49m\u001b[38;5;241;43m.\u001b[39;49m\u001b[43mreadinto\u001b[49m\u001b[43m(\u001b[49m\u001b[43mb\u001b[49m\u001b[43m)\u001b[49m\n\u001b[0;32m    508\u001b[0m \u001b[38;5;28;01mif\u001b[39;00m \u001b[38;5;129;01mnot\u001b[39;00m n \u001b[38;5;129;01mand\u001b[39;00m b:\n\u001b[0;32m    509\u001b[0m     \u001b[38;5;66;03m# Ideally, we would raise IncompleteRead if the content-length\u001b[39;00m\n\u001b[0;32m    510\u001b[0m     \u001b[38;5;66;03m# wasn't satisfied, but it might break compatibility.\u001b[39;00m\n\u001b[0;32m    511\u001b[0m     \u001b[38;5;28mself\u001b[39m\u001b[38;5;241m.\u001b[39m_close_conn()\n",
      "File \u001b[1;32m~\\anaconda3\\lib\\socket.py:704\u001b[0m, in \u001b[0;36mSocketIO.readinto\u001b[1;34m(self, b)\u001b[0m\n\u001b[0;32m    702\u001b[0m \u001b[38;5;28;01mwhile\u001b[39;00m \u001b[38;5;28;01mTrue\u001b[39;00m:\n\u001b[0;32m    703\u001b[0m     \u001b[38;5;28;01mtry\u001b[39;00m:\n\u001b[1;32m--> 704\u001b[0m         \u001b[38;5;28;01mreturn\u001b[39;00m \u001b[38;5;28;43mself\u001b[39;49m\u001b[38;5;241;43m.\u001b[39;49m\u001b[43m_sock\u001b[49m\u001b[38;5;241;43m.\u001b[39;49m\u001b[43mrecv_into\u001b[49m\u001b[43m(\u001b[49m\u001b[43mb\u001b[49m\u001b[43m)\u001b[49m\n\u001b[0;32m    705\u001b[0m     \u001b[38;5;28;01mexcept\u001b[39;00m timeout:\n\u001b[0;32m    706\u001b[0m         \u001b[38;5;28mself\u001b[39m\u001b[38;5;241m.\u001b[39m_timeout_occurred \u001b[38;5;241m=\u001b[39m \u001b[38;5;28;01mTrue\u001b[39;00m\n",
      "File \u001b[1;32m~\\anaconda3\\lib\\ssl.py:1241\u001b[0m, in \u001b[0;36mSSLSocket.recv_into\u001b[1;34m(self, buffer, nbytes, flags)\u001b[0m\n\u001b[0;32m   1237\u001b[0m     \u001b[38;5;28;01mif\u001b[39;00m flags \u001b[38;5;241m!=\u001b[39m \u001b[38;5;241m0\u001b[39m:\n\u001b[0;32m   1238\u001b[0m         \u001b[38;5;28;01mraise\u001b[39;00m \u001b[38;5;167;01mValueError\u001b[39;00m(\n\u001b[0;32m   1239\u001b[0m           \u001b[38;5;124m\"\u001b[39m\u001b[38;5;124mnon-zero flags not allowed in calls to recv_into() on \u001b[39m\u001b[38;5;132;01m%s\u001b[39;00m\u001b[38;5;124m\"\u001b[39m \u001b[38;5;241m%\u001b[39m\n\u001b[0;32m   1240\u001b[0m           \u001b[38;5;28mself\u001b[39m\u001b[38;5;241m.\u001b[39m\u001b[38;5;18m__class__\u001b[39m)\n\u001b[1;32m-> 1241\u001b[0m     \u001b[38;5;28;01mreturn\u001b[39;00m \u001b[38;5;28;43mself\u001b[39;49m\u001b[38;5;241;43m.\u001b[39;49m\u001b[43mread\u001b[49m\u001b[43m(\u001b[49m\u001b[43mnbytes\u001b[49m\u001b[43m,\u001b[49m\u001b[43m \u001b[49m\u001b[43mbuffer\u001b[49m\u001b[43m)\u001b[49m\n\u001b[0;32m   1242\u001b[0m \u001b[38;5;28;01melse\u001b[39;00m:\n\u001b[0;32m   1243\u001b[0m     \u001b[38;5;28;01mreturn\u001b[39;00m \u001b[38;5;28msuper\u001b[39m()\u001b[38;5;241m.\u001b[39mrecv_into(buffer, nbytes, flags)\n",
      "File \u001b[1;32m~\\anaconda3\\lib\\ssl.py:1099\u001b[0m, in \u001b[0;36mSSLSocket.read\u001b[1;34m(self, len, buffer)\u001b[0m\n\u001b[0;32m   1097\u001b[0m \u001b[38;5;28;01mtry\u001b[39;00m:\n\u001b[0;32m   1098\u001b[0m     \u001b[38;5;28;01mif\u001b[39;00m buffer \u001b[38;5;129;01mis\u001b[39;00m \u001b[38;5;129;01mnot\u001b[39;00m \u001b[38;5;28;01mNone\u001b[39;00m:\n\u001b[1;32m-> 1099\u001b[0m         \u001b[38;5;28;01mreturn\u001b[39;00m \u001b[38;5;28;43mself\u001b[39;49m\u001b[38;5;241;43m.\u001b[39;49m\u001b[43m_sslobj\u001b[49m\u001b[38;5;241;43m.\u001b[39;49m\u001b[43mread\u001b[49m\u001b[43m(\u001b[49m\u001b[38;5;28;43mlen\u001b[39;49m\u001b[43m,\u001b[49m\u001b[43m \u001b[49m\u001b[43mbuffer\u001b[49m\u001b[43m)\u001b[49m\n\u001b[0;32m   1100\u001b[0m     \u001b[38;5;28;01melse\u001b[39;00m:\n\u001b[0;32m   1101\u001b[0m         \u001b[38;5;28;01mreturn\u001b[39;00m \u001b[38;5;28mself\u001b[39m\u001b[38;5;241m.\u001b[39m_sslobj\u001b[38;5;241m.\u001b[39mread(\u001b[38;5;28mlen\u001b[39m)\n",
      "\u001b[1;31mKeyboardInterrupt\u001b[0m: "
     ]
    }
   ],
   "source": [
    "profile_name = input (\"Masukan Akun Instagram yang akan di Crawling :\")\n",
    "print(\"Download Media......\")\n",
    "instaloader.Instaloader().download_profile(profile_name, profile_pic_only = False)\n",
    "print(\"Download Success!\")"
   ]
  },
  {
   "cell_type": "code",
   "execution_count": null,
   "id": "7ff13121",
   "metadata": {},
   "outputs": [],
   "source": []
  }
 ],
 "metadata": {
  "kernelspec": {
   "display_name": "Python 3 (ipykernel)",
   "language": "python",
   "name": "python3"
  },
  "language_info": {
   "codemirror_mode": {
    "name": "ipython",
    "version": 3
   },
   "file_extension": ".py",
   "mimetype": "text/x-python",
   "name": "python",
   "nbconvert_exporter": "python",
   "pygments_lexer": "ipython3",
   "version": "3.9.12"
  }
 },
 "nbformat": 4,
 "nbformat_minor": 5
}
